{
 "cells": [
  {
   "cell_type": "code",
   "execution_count": 4,
   "metadata": {
    "id": "ZuncWJPIl8Tv"
   },
   "outputs": [],
   "source": [
    "Wc=80      # Berat cargo\n",
    "AL=8       # Jumlah Axle Line\n",
    "Wt=AL*3.3  # Berat Transporter\n",
    "Dab=1.8    # Jarak Axle to Axle (Transversal)\n",
    "Wb=0     # Berat Beam\n",
    "R=9.63     # Radius\n",
    "Gr=10      # Grad\n",
    "Cb=2       #\n",
    "Vw=25      # km/jam\n",
    "Vt=15      # km/jam\n",
    "Vc=5       # Kecepatan saat Tikungan km/jam\n",
    "St=10      # Jarak Pengereman\n",
    "Mu=0.15    #steel to wood\n",
    "L=12    \n",
    "D=2.7     \n",
    "Sf=1.2     # Safety Factor\n",
    "Af=D**2\n",
    "As=D*L\n",
    "Cog=3.1   # Combined CoG\n",
    "g=9.81     # Gravitasi"
   ]
  },
  {
   "cell_type": "code",
   "execution_count": 2,
   "metadata": {},
   "outputs": [
    {
     "data": {
      "text/plain": [
       "232.35"
      ]
     },
     "execution_count": 2,
     "metadata": {},
     "output_type": "execute_result"
    }
   ],
   "source": [
    "189+3.75+(12*3.3)+0"
   ]
  },
  {
   "cell_type": "code",
   "execution_count": 3,
   "metadata": {},
   "outputs": [
    {
     "data": {
      "text/plain": [
       "19.3625"
      ]
     },
     "execution_count": 3,
     "metadata": {},
     "output_type": "execute_result"
    }
   ],
   "source": [
    "232.35/12"
   ]
  },
  {
   "cell_type": "code",
   "execution_count": 15,
   "metadata": {},
   "outputs": [
    {
     "data": {
      "text/plain": [
       "4.302777777777778"
      ]
     },
     "execution_count": 15,
     "metadata": {},
     "output_type": "execute_result"
    }
   ],
   "source": [
    "232.35/(18*3)"
   ]
  },
  {
   "cell_type": "code",
   "execution_count": 5,
   "metadata": {
    "colab": {
     "base_uri": "https://localhost:8080/"
    },
    "id": "8hrD4RrunxCa",
    "outputId": "8305b8f6-e3b8-4d3f-b844-ddac8f61dcd7"
   },
   "outputs": [
    {
     "name": "stdout",
     "output_type": "stream",
     "text": [
      "Load Distribution= 2.9555555555555557 T/m²\n"
     ]
    }
   ],
   "source": [
    "# Load Distribution\n",
    "Wtot=Wc+Wb+Wt\n",
    "Ld=Wtot/(AL*1.5*3)\n",
    "print(\"Load Distribution=\",Ld,\"T/m²\")"
   ]
  },
  {
   "cell_type": "code",
   "execution_count": 6,
   "metadata": {
    "colab": {
     "base_uri": "https://localhost:8080/"
    },
    "id": "WnHY6fplo1sY",
    "outputId": "7adc1af6-c8d5-447d-c042-33633a851a3c"
   },
   "outputs": [
    {
     "name": "stdout",
     "output_type": "stream",
     "text": [
      "Stability Angle 3 Point Suspension Longitudinal= 32.82854179141253 º\n",
      "Stability Angle 3 Point Suspension Transversal= 10.954062643398334 º\n"
     ]
    }
   ],
   "source": [
    "# Tipping Stability\n",
    "import math\n",
    "Sl3=math.degrees(math.atan((AL*1.5)/6/Cog))\n",
    "St3=math.degrees(math.atan(Dab/3/Cog))\n",
    "print(\"Stability Angle 3 Point Suspension Longitudinal=\",Sl3,\"º\")\n",
    "print(\"Stability Angle 3 Point Suspension Transversal=\",St3,\"º\")"
   ]
  },
  {
   "cell_type": "code",
   "execution_count": 7,
   "metadata": {
    "colab": {
     "base_uri": "https://localhost:8080/"
    },
    "id": "_GY9K7rHsAPR",
    "outputId": "5958ff29-b09f-4617-cc10-e2c903422011"
   },
   "outputs": [
    {
     "name": "stdout",
     "output_type": "stream",
     "text": [
      "COG shift longitudinal= 3.518796992481203 m\n",
      "COG shift transversal= 0.8796992481203008 m\n",
      "Structural Stability Longitudinal= 48.62049998957943 º\n",
      "Structural Stability Transversal= 15.84256072873516 º\n"
     ]
    }
   ],
   "source": [
    "# Structural Stability\n",
    "import math\n",
    "Waxle=Wtot/(AL*2)\n",
    "Ac=12.5\n",
    "Tl=AL*1.5\n",
    "Dab=3\n",
    "Cogsl=(Tl/3)*((AL*2*Ac)/Wtot)-(Tl/3)\n",
    "Cogst=((Ac/Waxle)*(Dab/3))-(Dab/3)\n",
    "\n",
    "Sl=math.degrees(math.atan(Cogsl/Cog))\n",
    "St=math.degrees(math.atan(Cogst/Cog))\n",
    "\n",
    "print (\"COG shift longitudinal=\",Cogsl,\"m\")\n",
    "print (\"COG shift transversal=\",Cogst,\"m\")\n",
    "print (\"Structural Stability Longitudinal=\",Sl,\"º\")\n",
    "print (\"Structural Stability Transversal=\",St,\"º\")"
   ]
  },
  {
   "cell_type": "code",
   "execution_count": 8,
   "metadata": {
    "colab": {
     "base_uri": "https://localhost:8080/"
    },
    "id": "WYVuBW9UyM0L",
    "outputId": "a366c216-f75e-42e0-cbd1-aa86bca58c8a"
   },
   "outputs": [
    {
     "name": "stdout",
     "output_type": "stream",
     "text": [
      "Ground Pressure= 2.9555555555555557 Ton/m²\n"
     ]
    }
   ],
   "source": [
    "#Ground Pressure\n",
    "Gp=Wtot/(Tl*Dab)\n",
    "print(\"Ground Pressure=\",Gp,\"Ton/m²\")"
   ]
  },
  {
   "cell_type": "code",
   "execution_count": 9,
   "metadata": {
    "colab": {
     "base_uri": "https://localhost:8080/"
    },
    "id": "OC2f9_KNzIwg",
    "outputId": "1c886ebf-cd38-4cef-8512-40c1a1453f5c"
   },
   "outputs": [
    {
     "name": "stdout",
     "output_type": "stream",
     "text": [
      "Curved Forces= 2.1726078310352235 Ton\n"
     ]
    }
   ],
   "source": [
    "#Curve Forces\n",
    "Fc=(Wtot/9.81)*((Vc/3.6)**2/R)\n",
    "print(\"Curved Forces=\",Fc,\"Ton\")"
   ]
  },
  {
   "cell_type": "code",
   "execution_count": 10,
   "metadata": {
    "colab": {
     "base_uri": "https://localhost:8080/"
    },
    "id": "SAziJbrH1Vjv",
    "outputId": "400286ee-5618-40b2-815a-d95ee950169f"
   },
   "outputs": [
    {
     "name": "stdout",
     "output_type": "stream",
     "text": [
      "Wind Forces Longitudinal= 0.02197036882724181 Ton\n",
      "Wind Forces Transversal= 0.056376021911948716 Ton\n"
     ]
    }
   ],
   "source": [
    "#Wind Forces\n",
    "import math\n",
    "\n",
    "#Wind Pressure\n",
    "Vw= 25 #km/jam = 6.9 #m/s\n",
    "\n",
    "#Based on Wing Speed vs Wing Load Graph Wind Load when Vw= 6.9 m/s are 29Pa = 2.9Kg/m2\n",
    "Wp= 2.9 #Kg/m2\n",
    "Fwl= math.cos(0.523599)*Wp*Af*Sf/1000\n",
    "Fwt= math.sin(0.523599)*Wp*As*Sf/1000\n",
    "\n",
    "print(\"Wind Forces Longitudinal=\",Fwl,\"Ton\")\n",
    "print(\"Wind Forces Transversal=\",Fwt,\"Ton\")"
   ]
  },
  {
   "cell_type": "code",
   "execution_count": 11,
   "metadata": {
    "colab": {
     "base_uri": "https://localhost:8080/"
    },
    "id": "Xg2FlpybkSgd",
    "outputId": "742c1ef3-9c17-4434-ef18-9f5cd2b51df5"
   },
   "outputs": [
    {
     "name": "stdout",
     "output_type": "stream",
     "text": [
      "Acceleration Forces= 77.01933463479608 Ton\n"
     ]
    }
   ],
   "source": [
    "#Acceleration Forces\n",
    "Fac=(Wtot/g)*((Vt*Vt)/(2*St))\n",
    "print(\"Acceleration Forces=\",Fac,\"Ton\")"
   ]
  },
  {
   "cell_type": "code",
   "execution_count": 12,
   "metadata": {
    "colab": {
     "base_uri": "https://localhost:8080/"
    },
    "id": "oXZusXShlVYL",
    "outputId": "2a7ee10a-de2e-485b-e64c-254b4187873b"
   },
   "outputs": [
    {
     "name": "stdout",
     "output_type": "stream",
     "text": [
      "Gradient Forces Longitudinal= 18.476173941629913 Ton\n",
      "Gradient Forces Transversal= 3.713308039932515 Ton\n"
     ]
    }
   ],
   "source": [
    "#Gradient Forces\n",
    "F2l= math.sin(0.174533)*Wtot\n",
    "F2t= math.sin(0.0349066)*Wtot\n",
    "print(\"Gradient Forces Longitudinal=\",F2l,\"Ton\")\n",
    "print(\"Gradient Forces Transversal=\",F2t,\"Ton\")"
   ]
  },
  {
   "cell_type": "code",
   "execution_count": 13,
   "metadata": {
    "colab": {
     "base_uri": "https://localhost:8080/"
    },
    "id": "rZj4jY5cAGNE",
    "outputId": "d76549ed-6b09-4544-a7b0-185b16ade8d2"
   },
   "outputs": [
    {
     "name": "stdout",
     "output_type": "stream",
     "text": [
      "Vertical Securing= 26.4 Ton\n"
     ]
    }
   ],
   "source": [
    "#Vertical Securing Requirements\n",
    "Fv= Wt\n",
    "print(\"Vertical Securing=\",Fv,\"Ton\")"
   ]
  },
  {
   "cell_type": "code",
   "execution_count": 14,
   "metadata": {
    "colab": {
     "base_uri": "https://localhost:8080/"
    },
    "id": "_9SxgcKXApZi",
    "outputId": "42fdcab8-75f4-42cd-cc5a-daf405635a53"
   },
   "outputs": [
    {
     "name": "stdout",
     "output_type": "stream",
     "text": [
      "Horizontal Longitudinal Securing= 95.51747894525323 Ton\n",
      "Horizontal Transversal Securing= 5.9422918928796875 Ton\n"
     ]
    }
   ],
   "source": [
    "#Horizontal Securing Requirements\n",
    "Fhl=Fwl+Fac+F2l\n",
    "Fht=Fwt+Fc+F2t\n",
    "\n",
    "print(\"Horizontal Longitudinal Securing=\",Fhl,\"Ton\")\n",
    "print(\"Horizontal Transversal Securing=\",Fht,\"Ton\")"
   ]
  },
  {
   "cell_type": "code",
   "execution_count": 15,
   "metadata": {
    "colab": {
     "base_uri": "https://localhost:8080/"
    },
    "id": "2zox5vp-CV0N",
    "outputId": "2fd050e3-278f-4ff5-b82c-12d174d8d731"
   },
   "outputs": [
    {
     "name": "stdout",
     "output_type": "stream",
     "text": [
      "Maximum Friction Forces Longitudinal= 15.717531530770641 Ton\n",
      "Maximum Friction Forces Transversal= 15.950277590892043 Ton\n"
     ]
    }
   ],
   "source": [
    "#Maximum Friction Forces\n",
    "Ffl=Mu*(math.cos(0.174533))*Wtot\n",
    "Fft=Mu*(math.cos(0.0349066))*Wtot\n",
    "\n",
    "print(\"Maximum Friction Forces Longitudinal=\",Ffl,\"Ton\")\n",
    "print(\"Maximum Friction Forces Transversal=\",Fft,\"Ton\")"
   ]
  },
  {
   "cell_type": "code",
   "execution_count": 16,
   "metadata": {
    "colab": {
     "base_uri": "https://localhost:8080/"
    },
    "id": "AN7xN6-hDTqi",
    "outputId": "af17f9a4-f4e7-4074-cbaf-61143a8df0f3"
   },
   "outputs": [
    {
     "name": "stdout",
     "output_type": "stream",
     "text": [
      "Force Z Direction to be applied securing= 26.4 Ton\n",
      "Force X Direction to be applied securing= 79.79994741448259 Ton\n",
      "Force Y Direction to be applied securing= 10.007985698012355 Ton\n"
     ]
    }
   ],
   "source": [
    "#To Be Applied Securing\n",
    "Fvz=Fv\n",
    "Fhlx=Fhl-Ffl\n",
    "Fhly=Fft-Fht\n",
    "\n",
    "print(\"Force Z Direction to be applied securing=\",Fvz,\"Ton\")\n",
    "print(\"Force X Direction to be applied securing=\",Fhlx,\"Ton\")\n",
    "print(\"Force Y Direction to be applied securing=\",Fhly,\"Ton\")"
   ]
  }
 ],
 "metadata": {
  "colab": {
   "provenance": []
  },
  "kernelspec": {
   "display_name": "Python 3 (ipykernel)",
   "language": "python",
   "name": "python3"
  },
  "language_info": {
   "codemirror_mode": {
    "name": "ipython",
    "version": 3
   },
   "file_extension": ".py",
   "mimetype": "text/x-python",
   "name": "python",
   "nbconvert_exporter": "python",
   "pygments_lexer": "ipython3",
   "version": "3.12.7"
  }
 },
 "nbformat": 4,
 "nbformat_minor": 4
}
